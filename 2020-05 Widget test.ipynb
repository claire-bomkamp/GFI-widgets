{
 "cells": [
  {
   "cell_type": "code",
   "execution_count": 103,
   "metadata": {},
   "outputs": [],
   "source": [
    "import ipywidgets as widgets\n",
    "from ipywidgets import interact\n",
    "import matplotlib.pyplot as plt"
   ]
  },
  {
   "cell_type": "code",
   "execution_count": 104,
   "metadata": {},
   "outputs": [],
   "source": [
    "# Costs expressed as $ per gram, except DMEM/F12 which is per 50L (see table 1 of Liz's cost analysis)\n",
    "# Concentrations are mg/L, except for DMEM/F12 which is 1x\n",
    "\n",
    "cost_bm = 156\n",
    "cost_aa2p = 7.84\n",
    "cost_nahco3 = 0.01\n",
    "cost_selenite = 0.1\n",
    "cost_insulin = 340\n",
    "cost_transferrin = 400\n",
    "cost_fgf = 2005000\n",
    "cost_tgf = 80900000\n",
    "\n",
    "conc_bm = 1\n",
    "conc_aa2p = 64\n",
    "conc_nahco3 = 543\n",
    "conc_selenite = 0.014\n",
    "conc_insulin = 19.4\n",
    "conc_transferrin = 10.7\n",
    "conc_fgf = 0.1\n",
    "conc_tgf = 0.002\n",
    "\n",
    "costs = [cost_aa2p, cost_nahco3, cost_selenite, cost_insulin, cost_transferrin, cost_fgf, cost_tgf]\n",
    "concs = [conc_aa2p, conc_nahco3, conc_selenite, conc_insulin, conc_transferrin, conc_fgf, conc_tgf]\n",
    "labels = ['AA2P', 'NaHCO3', 'Na Selenite', 'Insulin', 'Transferrin', 'FGF', 'TGFbeta']\n",
    "\n",
    "def get_cost(costs, concs, cost_bm = 156, conc_bm = 1, return_breakdown = False):\n",
    "    breakdown = [(cost_bm * conc_bm) / 50]\n",
    "    for cost, conc in zip (costs, concs):\n",
    "        breakdown.append(cost * conc / 1000)\n",
    "    cost_L = sum(breakdown)\n",
    "    if return_breakdown:\n",
    "        return cost_L, breakdown\n",
    "    else:\n",
    "        return cost_L\n",
    "    \n",
    "def show_outputs(costs, new_costs, output):\n",
    "    output.clear_output()\n",
    "    \n",
    "    with output:    \n",
    "        cost, breakdown = get_cost(costs, concs, return_breakdown = True)\n",
    "        pie1 = plt.pie(breakdown, labels = ['Basal media'] + labels, wedgeprops=dict(width=0.5))\n",
    "        plt.gca().set_title('Original cost: ' + str(round(cost, 2)))\n",
    "        plt.show()\n",
    "\n",
    "        new_cost, new_breakdown = get_cost(new_costs, concs, return_breakdown = True)\n",
    "        pie2 = plt.pie(new_breakdown, labels = ['Basal media'] + labels, wedgeprops=dict(width=0.5))\n",
    "        plt.gca().set_title('New cost: ' + str(round(new_cost, 2)))\n",
    "        plt.show()\n",
    "        \n",
    "def make_plot(cost_dict, to_plot, cost_range, plot_output):\n",
    "    plot_output.clear_output()\n",
    "    with plot_output:\n",
    "        y = []\n",
    "        for component_cost in cost_range:\n",
    "            cost_dict[dropdown.value] = component_cost\n",
    "            y.append(get_cost(cost_dict.values(), concs))\n",
    "    \n",
    "        plt.plot(cost_range, y)\n",
    "        plt.xlabel(dropdown.value + ' cost per gram')\n",
    "        plt.ylabel('Media cost per liter')\n",
    "        plt.show()\n",
    "        \n"
   ]
  },
  {
   "cell_type": "code",
   "execution_count": 123,
   "metadata": {},
   "outputs": [
    {
     "data": {
      "application/vnd.jupyter.widget-view+json": {
       "model_id": "04409c52f8f74b93bc416955028f46be",
       "version_major": 2,
       "version_minor": 0
      },
      "text/plain": [
       "VBox(children=(HBox(children=(VBox(children=(FloatText(value=7.84, description='AA2P'), FloatText(value=0.01, …"
      ]
     },
     "metadata": {},
     "output_type": "display_data"
    }
   ],
   "source": [
    "output = widgets.Output()\n",
    "plot_output = widgets.Output()\n",
    "\n",
    "# Make text box widgets\n",
    "\n",
    "t_aa2p = widgets.FloatText(value = cost_aa2p, description = 'AA2P')\n",
    "t_nahco3 = widgets.FloatText(value = cost_nahco3, description = 'NaHCO3')\n",
    "t_selenite = widgets.FloatText(value = cost_selenite, description = 'Na Selenite')\n",
    "t_insulin = widgets.IntText(value = cost_insulin, description = 'Insulin')\n",
    "t_transferrin = widgets.IntText(value = cost_transferrin, description = 'Transferrin')\n",
    "t_fgf = widgets.IntText(value = cost_fgf, description = 'FGF')\n",
    "t_tgf = widgets.IntText(value = cost_tgf, description = 'TGFbeta')\n",
    "\n",
    "t_widgets = [t_aa2p, t_nahco3, t_selenite, t_insulin, t_transferrin, t_fgf, t_tgf]\n",
    "widget_dict = {label: widget for label, widget in zip(labels, t_widgets)}\n",
    "\n",
    "# Could easily add a second column to represent concentrations\n",
    "\n",
    "dropdown = widgets.Dropdown(options = labels, description = 'Plot')\n",
    "lower_bound_widget = widgets.FloatText(value = 0, description = 'Lower bound')\n",
    "upper_bound_widget = widgets.FloatText(value = widget_dict[dropdown.value].value, description = 'Upper bound')\n",
    "\n",
    "plot_widgets = [dropdown, lower_bound_widget, upper_bound_widget]\n",
    "\n",
    "def handler(change):\n",
    "    new_costs = [t.value for t in t_widgets]\n",
    "    show_outputs(costs, new_costs, output)\n",
    "    \n",
    "def plot_handler(change):\n",
    "    new_costs = [t.value for t in t_widgets]\n",
    "    cost_dict = {label: cost for label, cost in zip(labels, new_costs)}\n",
    "    to_plot = dropdown.value\n",
    "    cost_range = [lower_bound_widget.value, upper_bound_widget.value]\n",
    "    make_plot(cost_dict, to_plot, cost_range, plot_output)\n",
    "    \n",
    "def widget_handler(change):\n",
    "    lower_bound_widget.value = 0\n",
    "    upper_bound_widget.value = widget_dict[dropdown.value].value\n",
    "\n",
    "for t_widget in t_widgets:\n",
    "    t_widget.observe(handler)\n",
    "    t_widget.observe(plot_handler)\n",
    "for plot_widget in plot_widgets:\n",
    "    plot_widget.observe(plot_handler)\n",
    "dropdown.observe(widget_handler)\n",
    "\n",
    "input_widgets = widgets.HBox([widgets.VBox(t_widgets), widgets.VBox(plot_widgets)])\n",
    "tab = widgets.GridBox([output, plot_output], layout=widgets.Layout(grid_template_columns=\"repeat(2, 400px)\"))\n",
    "dashboard = widgets.VBox([input_widgets, tab])\n",
    "display(dashboard)\n",
    "handler(None)\n",
    "plot_handler(None)"
   ]
  },
  {
   "cell_type": "code",
   "execution_count": null,
   "metadata": {},
   "outputs": [],
   "source": []
  },
  {
   "cell_type": "code",
   "execution_count": null,
   "metadata": {},
   "outputs": [],
   "source": []
  },
  {
   "cell_type": "code",
   "execution_count": null,
   "metadata": {},
   "outputs": [],
   "source": []
  },
  {
   "cell_type": "code",
   "execution_count": null,
   "metadata": {},
   "outputs": [],
   "source": []
  },
  {
   "cell_type": "code",
   "execution_count": null,
   "metadata": {},
   "outputs": [],
   "source": []
  },
  {
   "cell_type": "code",
   "execution_count": 12,
   "metadata": {},
   "outputs": [],
   "source": [
    "# Linked slider and text box widgets\n",
    "\n",
    "# Make sliders\n",
    "\n",
    "s_aa2p = widgets.FloatSlider(value = cost_aa2p, min = 0, max = cost_aa2p, description = 'AA2P')\n",
    "s_nahco3 = widgets.FloatSlider(value = cost_nahco3, min = 0, max = cost_nahco3, step = 0.0001, description = 'NaHCO3')\n",
    "s_selenite = widgets.FloatSlider(value = cost_selenite, min = 0, max = cost_selenite , step = 0.001, description = 'Na Selenite')\n",
    "s_insulin = widgets.IntSlider(value = cost_insulin, min = 0, max = cost_insulin, description = 'Insulin')\n",
    "s_transferrin = widgets.IntSlider(value = cost_transferrin, min = 0, max = cost_transferrin, description = 'Transferrin')\n",
    "s_fgf = widgets.IntSlider(value = cost_fgf, min = 0, max = cost_fgf, description = 'FGF')\n",
    "s_tgf = widgets.IntSlider(value = cost_tgf, min = 0, max = cost_tgf, description = 'TGFbeta')\n",
    "\n",
    "s_widgets = [s_aa2p, s_nahco3, s_selenite, s_insulin, s_transferrin, s_fgf, s_tgf]\n",
    "\n",
    "# Make text box widgets\n",
    "\n",
    "t_aa2p = widgets.FloatText(value = cost_aa2p, description = 'AA2P')\n",
    "t_nahco3 = widgets.FloatText(value = cost_nahco3, description = 'NaHCO3')\n",
    "t_selenite = widgets.FloatText(value = cost_selenite, description = 'Na Selenite')\n",
    "t_insulin = widgets.IntText(value = cost_insulin, description = 'Insulin')\n",
    "t_transferrin = widgets.IntText(value = cost_transferrin, description = 'Transferrin')\n",
    "t_fgf = widgets.IntText(value = cost_fgf, description = 'FGF')\n",
    "t_tgf = widgets.IntText(value = cost_tgf, description = 'TGFbeta')\n",
    "\n",
    "t_widgets = [t_aa2p, t_nahco3, t_selenite, t_insulin, t_transferrin, t_fgf, t_tgf]\n",
    "\n",
    "# Link widgets\n",
    "\n",
    "for s_widget, t_widget in zip(s_widgets, t_widgets):\n",
    "    widgets.jslink((s_widget, 'value'), (t_widget, 'value'))"
   ]
  },
  {
   "cell_type": "code",
   "execution_count": 13,
   "metadata": {},
   "outputs": [
    {
     "data": {
      "application/vnd.jupyter.widget-view+json": {
       "model_id": "9dda63ffbcca4c0fb0947e51a8711751",
       "version_major": 2,
       "version_minor": 0
      },
      "text/plain": [
       "FloatSlider(value=7.84, description='AA2P', max=7.84)"
      ]
     },
     "metadata": {},
     "output_type": "display_data"
    },
    {
     "data": {
      "application/vnd.jupyter.widget-view+json": {
       "model_id": "45a603219c944d75bec2d5cc4d4b2cac",
       "version_major": 2,
       "version_minor": 0
      },
      "text/plain": [
       "FloatText(value=7.84, description='AA2P')"
      ]
     },
     "metadata": {},
     "output_type": "display_data"
    },
    {
     "data": {
      "application/vnd.jupyter.widget-view+json": {
       "model_id": "a87141c10b1341f48790e18ddf93c48c",
       "version_major": 2,
       "version_minor": 0
      },
      "text/plain": [
       "FloatSlider(value=0.01, description='NaHCO3', max=0.01, step=0.0001)"
      ]
     },
     "metadata": {},
     "output_type": "display_data"
    },
    {
     "data": {
      "application/vnd.jupyter.widget-view+json": {
       "model_id": "cab688be365a40e8a4e9186da647a4c3",
       "version_major": 2,
       "version_minor": 0
      },
      "text/plain": [
       "FloatText(value=0.01, description='NaHCO3')"
      ]
     },
     "metadata": {},
     "output_type": "display_data"
    },
    {
     "data": {
      "application/vnd.jupyter.widget-view+json": {
       "model_id": "ef791accaf354a3ebfd261ad0d2f1cd2",
       "version_major": 2,
       "version_minor": 0
      },
      "text/plain": [
       "FloatSlider(value=0.1, description='Na Selenite', max=0.1, step=0.001)"
      ]
     },
     "metadata": {},
     "output_type": "display_data"
    },
    {
     "data": {
      "application/vnd.jupyter.widget-view+json": {
       "model_id": "e10a4a413b604d4fa550010aec48b164",
       "version_major": 2,
       "version_minor": 0
      },
      "text/plain": [
       "FloatText(value=0.1, description='Na Selenite')"
      ]
     },
     "metadata": {},
     "output_type": "display_data"
    },
    {
     "data": {
      "application/vnd.jupyter.widget-view+json": {
       "model_id": "2136b669ee0340e6b94527abed9e1525",
       "version_major": 2,
       "version_minor": 0
      },
      "text/plain": [
       "IntSlider(value=340, description='Insulin', max=340)"
      ]
     },
     "metadata": {},
     "output_type": "display_data"
    },
    {
     "data": {
      "application/vnd.jupyter.widget-view+json": {
       "model_id": "31d63b88f9824ea7bb1027dc2b3ea111",
       "version_major": 2,
       "version_minor": 0
      },
      "text/plain": [
       "IntText(value=340, description='Insulin')"
      ]
     },
     "metadata": {},
     "output_type": "display_data"
    },
    {
     "data": {
      "application/vnd.jupyter.widget-view+json": {
       "model_id": "9e7c32b4e9e844938234967581eb5f97",
       "version_major": 2,
       "version_minor": 0
      },
      "text/plain": [
       "IntSlider(value=400, description='Transferrin', max=400)"
      ]
     },
     "metadata": {},
     "output_type": "display_data"
    },
    {
     "data": {
      "application/vnd.jupyter.widget-view+json": {
       "model_id": "73090aaa90964b08a6a873989ed3785c",
       "version_major": 2,
       "version_minor": 0
      },
      "text/plain": [
       "IntText(value=400, description='Transferrin')"
      ]
     },
     "metadata": {},
     "output_type": "display_data"
    },
    {
     "data": {
      "application/vnd.jupyter.widget-view+json": {
       "model_id": "4f5c1efe30a3481d9082fd55818a525a",
       "version_major": 2,
       "version_minor": 0
      },
      "text/plain": [
       "IntSlider(value=2005000, description='FGF', max=2005000)"
      ]
     },
     "metadata": {},
     "output_type": "display_data"
    },
    {
     "data": {
      "application/vnd.jupyter.widget-view+json": {
       "model_id": "4bbbff79e89946378fe8db3fa7f06819",
       "version_major": 2,
       "version_minor": 0
      },
      "text/plain": [
       "IntText(value=2005000, description='FGF')"
      ]
     },
     "metadata": {},
     "output_type": "display_data"
    },
    {
     "data": {
      "application/vnd.jupyter.widget-view+json": {
       "model_id": "57df709782764aa79043433fa7cc39e3",
       "version_major": 2,
       "version_minor": 0
      },
      "text/plain": [
       "IntSlider(value=80900000, description='TGFbeta', max=80900000)"
      ]
     },
     "metadata": {},
     "output_type": "display_data"
    },
    {
     "data": {
      "application/vnd.jupyter.widget-view+json": {
       "model_id": "628ce175549d43088f1a76c58ed6c32d",
       "version_major": 2,
       "version_minor": 0
      },
      "text/plain": [
       "IntText(value=80900000, description='TGFbeta')"
      ]
     },
     "metadata": {},
     "output_type": "display_data"
    }
   ],
   "source": [
    "for s_widget, t_widget in zip(s_widgets, t_widgets):\n",
    "    display(s_widget, t_widget)\n"
   ]
  },
  {
   "cell_type": "code",
   "execution_count": null,
   "metadata": {},
   "outputs": [],
   "source": []
  }
 ],
 "metadata": {
  "kernelspec": {
   "display_name": "Python 3",
   "language": "python",
   "name": "python3"
  },
  "language_info": {
   "codemirror_mode": {
    "name": "ipython",
    "version": 3
   },
   "file_extension": ".py",
   "mimetype": "text/x-python",
   "name": "python",
   "nbconvert_exporter": "python",
   "pygments_lexer": "ipython3",
   "version": "3.7.4"
  }
 },
 "nbformat": 4,
 "nbformat_minor": 2
}
