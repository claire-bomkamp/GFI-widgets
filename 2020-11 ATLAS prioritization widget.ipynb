{
 "cells": [
  {
   "cell_type": "code",
   "execution_count": 496,
   "metadata": {},
   "outputs": [],
   "source": [
    "import os\n",
    "import pandas as pd\n",
    "import ipywidgets as widgets\n",
    "import matplotlib.pyplot as plt\n",
    "import numpy as np\n",
    "import seaborn as sns"
   ]
  },
  {
   "cell_type": "code",
   "execution_count": 497,
   "metadata": {},
   "outputs": [],
   "source": [
    "df = pd.read_csv('ATLAS-Scores only.csv', index_col = 0)\n",
    "df.drop(['Scientific Name (from Species) 2', 'Average Score'], axis = 1, inplace = True)"
   ]
  },
  {
   "cell_type": "code",
   "execution_count": 498,
   "metadata": {},
   "outputs": [],
   "source": [
    "# Define relationships between categories and metrics\n",
    "categories = ['Sustainability', 'Animal Welfare', 'Health', 'US Market Size']\n",
    "metrics = ['Score: Overall Sustainability', 'Score:  Greenhouse Gas Emissions', \n",
    "           'Score: Max Number of Individuals (Log)', 'Score: Edible Coefficient', \n",
    "           'Score: Mercury Concentration',  \n",
    "           'Score: U.S. Retail Sales (Log)', 'Score: U.S. Menu Prevalence', \n",
    "           'Score: Import Value (Log)', 'Score: Import Volume (Log)']\n",
    "metric_dict = {'Sustainability': ['Score: Overall Sustainability', 'Score:  Greenhouse Gas Emissions'],\n",
    "               'Animal Welfare': ['Score: Edible Coefficient', 'Score: Max Number of Individuals (Log)'],\n",
    "               'Health': ['Score: Mercury Concentration'],  \n",
    "               'US Market Size': ['Score: U.S. Retail Sales (Log)', 'Score: U.S. Menu Prevalence', \n",
    "               'Score: Import Value (Log)', 'Score: Import Volume (Log)']}\n",
    "\n",
    "# Widget outputs\n",
    "output = widgets.Output()\n",
    "graph_output = widgets.Output()\n",
    "pie_output = widgets.Output()\n",
    "\n",
    "# Make sliders\n",
    "style = {'description_width' : '105px'}\n",
    "sust_slider = widgets.FloatSlider(value = 0.25, min = 0, max = 1, step = 0.01, description = 'Sustainability', style = style)\n",
    "welf_slider = widgets.FloatSlider(value = 0.25, min = 0, max = 1, step = 0.01, description = 'Animal Welfare', style = style)\n",
    "health_slider = widgets.FloatSlider(value = 0.25, min = 0, max = 1, step = 0.01, description = 'Public Health', style = style)\n",
    "market_slider = widgets.FloatSlider(value = 0.25, min = 0, max = 1, step = 0.01, description = 'US Market Size', style = style)\n",
    "\n",
    "overall_slider = widgets.FloatSlider(value = 0.5, min = 0, max = 1, step = 0.01, description = 'Overall', style = style)\n",
    "ghg_slider = widgets.FloatSlider(value = 0.5, min = 0, max = 1, step = 0.01, description = 'GHG Emissions', style = style)\n",
    "individuals_slider = widgets.FloatSlider(value = 0.5, min = 0, max = 1, step = 0.01, description = 'Max # Individuals', style = style)\n",
    "edible_slider = widgets.FloatSlider(value = 0.5, min = 0, max = 1, step = 0.01, description = 'Edible Portion', style = style)\n",
    "retail_slider = widgets.FloatSlider(value = 0.33, min = 0, max = 1, step = 0.01, description = 'Retail Sales', style = style)\n",
    "menu_slider = widgets.FloatSlider(value = 0.33, min = 0, max = 1, step = 0.01, description = 'Menu Prevalence', style = style)\n",
    "value_slider = widgets.FloatSlider(value = 0.33, min = 0, max = 1, step = 0.01, description = 'Import Value', style = style)\n",
    "volume_slider = widgets.FloatSlider(value = 0, min = 0, max = 1, step = 0.01, description = 'Import Volume', style = style)\n",
    "\n",
    "category_sliders = [sust_slider, welf_slider, health_slider, market_slider]\n",
    "metric_sliders = [overall_slider, ghg_slider, \n",
    "                  individuals_slider, edible_slider, \n",
    "                  retail_slider, menu_slider, value_slider, volume_slider]\n",
    "category_slider_dict = {category: slider for category, slider in zip(categories, category_sliders)}\n",
    "metric_slider_dict = {metric: slider for metric, slider in zip([m for m in metrics if m != 'Score: Mercury Concentration'], metric_sliders)}\n",
    "\n",
    "def compute_scores():  \n",
    "    sum_of_cat_weights = sum([slider.value for slider in category_sliders])\n",
    "    \n",
    "    category_weights = []\n",
    "    weight_list = []\n",
    "    metric_list = []\n",
    "    \n",
    "    # Normalize weights within and between categories\n",
    "    for category in categories:\n",
    "        category_weight = category_slider_dict[category].value / sum_of_cat_weights\n",
    "        category_metrics = metric_dict[category]\n",
    "        if category == 'Health':\n",
    "            weights = [category_weight]\n",
    "        else:\n",
    "            raw_weights = [metric_slider_dict[metric].value for metric in metric_dict[category]]\n",
    "            sum_of_weights = sum(raw_weights)\n",
    "            weights = [(raw_weight / sum_of_weights) * category_weight for raw_weight in raw_weights]\n",
    "        weight_list = weight_list + weights\n",
    "        metric_list = metric_list + category_metrics\n",
    "        category_weights.append(category_weight)\n",
    "    \n",
    "    # Calculate weighted scores for each metric, fill in missing values with means\n",
    "    score_breakdown = pd.DataFrame([pd.to_numeric(df[metric]).fillna(pd.to_numeric(df[metric]).mean()) * weight for weight, metric in zip(weight_list, metric_list)]).T\n",
    "\n",
    "    # Calculate weighted scores only for those with data - this will be used for the bar graph\n",
    "    score_breakdown_wo_na = pd.DataFrame([pd.to_numeric(df[metric]) * weight for weight, metric in zip(weight_list, metric_list)]).T\n",
    "    \n",
    "    # Calculate total scores and sort dataframes by score\n",
    "    score_breakdown['Score'] = score_breakdown.sum(axis = 1)    \n",
    "    score_breakdown_wo_na['Score'] = score_breakdown['Score']   \n",
    "    df['Score'] = score_breakdown['Score']\n",
    "    \n",
    "    score_breakdown.sort_values('Score', inplace = True, ascending = False)\n",
    "    score_breakdown_wo_na.sort_values('Score', inplace = True, ascending = False)\n",
    "    df.sort_values('Score', inplace = True, ascending = False)    \n",
    "\n",
    "    # Display ranked list of archetypes. Check whether both import value and volume are weighted and warn user if so.\n",
    "    with output:\n",
    "        if value_slider.value != 0 and volume_slider.value != 0:\n",
    "            display('Warning: Import value and import volume are redundant. You probably should set one or the other to zero.')  \n",
    "        with pd.option_context('display.max_rows', None, 'display.max_columns', None):\n",
    "            display(df)\n",
    "    with graph_output:\n",
    "        if value_slider.value != 0 and volume_slider.value != 0:\n",
    "            display('Warning: Import value and import volume are redundant. You probably should set one or the other to zero.')  \n",
    "\n",
    "\n",
    "    # Make color palettes\n",
    "    sust_colors = sns.cubehelix_palette(start = 1.8, rot = 0, dark = 0.4, light = 0.9, n_colors = 8)\n",
    "    welf_colors = sns.cubehelix_palette(start = 0.5, rot = 0, dark = 0.4, light = 0.9, n_colors = 8)\n",
    "    health_colors = sns.cubehelix_palette(start = 3, rot = 0, dark = 0.4, light = 0.9, n_colors = 8)\n",
    "    market_colors = sns.cubehelix_palette(start = 2.5, rot = 0, dark = 0.4, light = 0.9, n_colors = 8)  \n",
    "    colors = sust_colors[3:5] + welf_colors[3:5] + health_colors[3:4] + market_colors[3:7]\n",
    "\n",
    "    # Plot score breakdown as bar graph\n",
    "    with graph_output:\n",
    "        bottom = [0] * 20\n",
    "        ind = np.arange(20)\n",
    "        score_breakdown = score_breakdown.head(20)\n",
    "        score_breakdown_wo_na = score_breakdown_wo_na.head(20)\n",
    "        plt.bar(ind, score_breakdown['Score'], color = 'lightgrey')\n",
    "        score_breakdown.drop('Score', axis = 1, inplace = True)\n",
    "        for column, color in zip(score_breakdown.columns, colors):\n",
    "            plt.bar(ind, score_breakdown_wo_na[column], bottom = bottom, label = column, color = color)\n",
    "            bottom = bottom + score_breakdown[column]\n",
    "        plt.xticks(ind, score_breakdown.index[:20], rotation = 90)\n",
    "        plt.legend(loc = 'upper left', bbox_to_anchor = (1,1))\n",
    "        plt.show()\n",
    "\n",
    "    # Display weights as a donut chart\n",
    "    with pie_output:\n",
    "        plt.pie(category_weights, colors = [sust_colors[0], welf_colors[0], health_colors[0], market_colors[0]], wedgeprops = {'width' : 0.2}, labels = categories)\n",
    "        plt.pie(weight_list, colors = colors, radius = 0.75, wedgeprops = {'width' : 0.2})\n",
    "        plt.show()\n",
    "\n",
    "# This runs every time you move a slider\n",
    "def handler(change):\n",
    "    output.clear_output()\n",
    "    graph_output.clear_output()\n",
    "    pie_output.clear_output()\n",
    "    compute_scores()\n",
    "\n",
    "for slider in category_sliders + metric_sliders:\n",
    "    slider.observe(handler, names = 'value')\n",
    "\n",
    "# Make the layout pretty\n",
    "sust_layout = widgets.VBox([overall_slider, ghg_slider])\n",
    "welf_layout = widgets.VBox([individuals_slider, edible_slider])\n",
    "market_layout = widgets.VBox([retail_slider, menu_slider, value_slider, volume_slider])\n",
    "metric_layout = widgets.HBox([sust_layout, welf_layout, market_layout])\n",
    "\n",
    "category_layout = widgets.VBox([sust_slider, welf_slider, health_slider, market_slider])\n",
    "tab = widgets.Tab([category_layout, metric_layout])\n",
    "tab.set_title(0, 'Categories')\n",
    "tab.set_title(1, 'Metrics')\n",
    "\n",
    "output_tab = widgets.Tab([output, widgets.HBox([graph_output, pie_output])])\n",
    "output_tab.set_title(0, 'Table')\n",
    "output_tab.set_title(1, 'Graphs')\n",
    "\n",
    "# Calculate the initial scores\n",
    "compute_scores()"
   ]
  },
  {
   "cell_type": "code",
   "execution_count": 499,
   "metadata": {},
   "outputs": [
    {
     "data": {
      "application/vnd.jupyter.widget-view+json": {
       "model_id": "1c10038072d9417a99481a9816d503c0",
       "version_major": 2,
       "version_minor": 0
      },
      "text/plain": [
       "Tab(children=(VBox(children=(FloatSlider(value=0.25, description='Sustainability', max=1.0, step=0.01, style=S…"
      ]
     },
     "metadata": {},
     "output_type": "display_data"
    }
   ],
   "source": [
    "display(tab)"
   ]
  },
  {
   "cell_type": "code",
   "execution_count": 500,
   "metadata": {},
   "outputs": [
    {
     "data": {
      "application/vnd.jupyter.widget-view+json": {
       "model_id": "e0ba4bfcbec84c9ea6099bfe83f798fd",
       "version_major": 2,
       "version_minor": 0
      },
      "text/plain": [
       "Tab(children=(Output(outputs=({'output_type': 'display_data', 'data': {'text/plain': '                        …"
      ]
     },
     "metadata": {},
     "output_type": "display_data"
    }
   ],
   "source": [
    "display(output_tab)"
   ]
  },
  {
   "cell_type": "code",
   "execution_count": null,
   "metadata": {},
   "outputs": [],
   "source": []
  }
 ],
 "metadata": {
  "kernelspec": {
   "display_name": "Python 3",
   "language": "python",
   "name": "python3"
  },
  "language_info": {
   "codemirror_mode": {
    "name": "ipython",
    "version": 3
   },
   "file_extension": ".py",
   "mimetype": "text/x-python",
   "name": "python",
   "nbconvert_exporter": "python",
   "pygments_lexer": "ipython3",
   "version": "3.7.4"
  }
 },
 "nbformat": 4,
 "nbformat_minor": 2
}
