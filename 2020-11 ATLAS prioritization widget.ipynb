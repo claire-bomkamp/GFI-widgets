{
 "cells": [
  {
   "cell_type": "code",
   "execution_count": 43,
   "metadata": {},
   "outputs": [],
   "source": [
    "import os\n",
    "import pandas as pd\n",
    "import ipywidgets as widgets"
   ]
  },
  {
   "cell_type": "code",
   "execution_count": 44,
   "metadata": {},
   "outputs": [],
   "source": [
    "df = pd.read_csv('ATLAS-Grid view.csv')\n",
    "\n",
    "df['Foodservice menu prominence -2019'] = pd.to_numeric(df['Foodservice menu prominence -2019'].str.replace('%', '')) / 100"
   ]
  },
  {
   "cell_type": "code",
   "execution_count": 45,
   "metadata": {},
   "outputs": [],
   "source": [
    "metrics = ['Overall Sustainability Score', 'Edible Portion', 'Mercury Content', 'Foodservice menu prominence -2019']\n",
    "output = widgets.Output()\n",
    "\n",
    "sust_slider = widgets.FloatSlider(value = 0.25, min = 0, max = 1, step = 0.01, description = 'Sustainability')\n",
    "welf_slider = widgets.FloatSlider(value = 0.25, min = 0, max = 1, step = 0.01, description = 'Animal Welfare')\n",
    "health_slider = widgets.FloatSlider(value = 0.25, min = 0, max = 1, step = 0.01, description = 'Public Health')\n",
    "market_slider = widgets.FloatSlider(value = 0.25, min = 0, max = 1, step = 0.01, description = 'Market Size')\n",
    "\n",
    "s_widgets = [sust_slider, welf_slider, health_slider, market_slider]\n",
    "\n",
    "dropdown = widgets.Dropdown(options = [('Treat missing values as zero', False), ('Ignore missing values', True)])\n",
    "ignore_missing = False\n",
    "\n",
    "def compute_scores():\n",
    "    ignore_missing = dropdown.value\n",
    "    raw_weights = [s_widget.value for s_widget in s_widgets]\n",
    "    sum_of_weights = sum(raw_weights)\n",
    "    weights = [raw_weight / sum_of_weights for raw_weight in raw_weights]\n",
    "    \n",
    "    # This is completely the wrong formula - this version is just a proof of concept\n",
    "    if ignore_missing:\n",
    "        df['Score'] = pd.DataFrame([pd.to_numeric(df[metric]) * weight for weight, metric in zip(weights, metrics)]).mean(axis = 0)        \n",
    "    else:\n",
    "        df['Score'] = pd.DataFrame([pd.to_numeric(df[metric]) * weight for weight, metric in zip(weights, metrics)]).sum(axis = 0)\n",
    "    df.sort_values('Score', inplace = True, ascending = False)\n",
    "    \n",
    "    with output:\n",
    "        with pd.option_context('display.max_rows', None, 'display.max_columns', None):\n",
    "            display(df[['Archetype', 'Score', 'Overall Sustainability Score', 'Edible Portion', 'Mercury Content', 'Foodservice menu prominence -2019']])\n",
    "\n",
    "def handler(change):\n",
    "    output.clear_output()\n",
    "    compute_scores()\n",
    "    \n",
    "for s_widget in s_widgets:\n",
    "    s_widget.observe(handler, names = 'value')\n",
    "dropdown.observe(handler, names = 'value')"
   ]
  },
  {
   "cell_type": "code",
   "execution_count": 46,
   "metadata": {},
   "outputs": [
    {
     "data": {
      "application/vnd.jupyter.widget-view+json": {
       "model_id": "a1f12520d49043b7a62015d5f2e6bb0f",
       "version_major": 2,
       "version_minor": 0
      },
      "text/plain": [
       "FloatSlider(value=0.25, description='Sustainability', max=1.0, step=0.01)"
      ]
     },
     "metadata": {},
     "output_type": "display_data"
    },
    {
     "data": {
      "application/vnd.jupyter.widget-view+json": {
       "model_id": "2ca695ededd547d68647ca33e64cb1ec",
       "version_major": 2,
       "version_minor": 0
      },
      "text/plain": [
       "FloatSlider(value=0.25, description='Animal Welfare', max=1.0, step=0.01)"
      ]
     },
     "metadata": {},
     "output_type": "display_data"
    },
    {
     "data": {
      "application/vnd.jupyter.widget-view+json": {
       "model_id": "4d73c6250d824a2aa46a3b7ef3b017f1",
       "version_major": 2,
       "version_minor": 0
      },
      "text/plain": [
       "FloatSlider(value=0.25, description='Public Health', max=1.0, step=0.01)"
      ]
     },
     "metadata": {},
     "output_type": "display_data"
    },
    {
     "data": {
      "application/vnd.jupyter.widget-view+json": {
       "model_id": "1989520a4a6d4ea0aa5c5828a9059df5",
       "version_major": 2,
       "version_minor": 0
      },
      "text/plain": [
       "FloatSlider(value=0.25, description='Market Size', max=1.0, step=0.01)"
      ]
     },
     "metadata": {},
     "output_type": "display_data"
    },
    {
     "data": {
      "application/vnd.jupyter.widget-view+json": {
       "model_id": "a523c88a2be64895ae59db8b687aa221",
       "version_major": 2,
       "version_minor": 0
      },
      "text/plain": [
       "Dropdown(options=(('Treat missing values as zero', False), ('Ignore missing values', True)), value=False)"
      ]
     },
     "metadata": {},
     "output_type": "display_data"
    },
    {
     "data": {
      "application/vnd.jupyter.widget-view+json": {
       "model_id": "65f3d8728018479390b2fd3312c9a74c",
       "version_major": 2,
       "version_minor": 0
      },
      "text/plain": [
       "Output()"
      ]
     },
     "metadata": {},
     "output_type": "display_data"
    }
   ],
   "source": [
    "for s_widget in s_widgets:\n",
    "    display(s_widget)\n",
    "\n",
    "display(dropdown)\n",
    "display(output)\n",
    "compute_scores()"
   ]
  },
  {
   "cell_type": "code",
   "execution_count": null,
   "metadata": {},
   "outputs": [],
   "source": []
  }
 ],
 "metadata": {
  "kernelspec": {
   "display_name": "Python 3",
   "language": "python",
   "name": "python3"
  },
  "language_info": {
   "codemirror_mode": {
    "name": "ipython",
    "version": 3
   },
   "file_extension": ".py",
   "mimetype": "text/x-python",
   "name": "python",
   "nbconvert_exporter": "python",
   "pygments_lexer": "ipython3",
   "version": "3.7.4"
  }
 },
 "nbformat": 4,
 "nbformat_minor": 2
}
