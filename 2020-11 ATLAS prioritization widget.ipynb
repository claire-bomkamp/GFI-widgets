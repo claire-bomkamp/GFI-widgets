{
 "cells": [
  {
   "cell_type": "code",
   "execution_count": null,
   "metadata": {},
   "outputs": [],
   "source": [
    "from airtable import Airtable\n",
    "import os\n",
    "import pandas as pd\n",
    "import ipywidgets as widgets"
   ]
  },
  {
   "cell_type": "code",
   "execution_count": null,
   "metadata": {},
   "outputs": [],
   "source": [
    "api_key = input('Please enter the API key')\n",
    "base_key = input('Please enter the base ID')"
   ]
  },
  {
   "cell_type": "code",
   "execution_count": null,
   "metadata": {},
   "outputs": [],
   "source": [
    "table_name = 'ATLAS - Raw Data'\n",
    "\n",
    "airtable = Airtable(base_key, table_name, api_key = api_key)\n",
    "\n",
    "df = pd.DataFrame.from_records(r['fields'] for r in airtable.get_all())"
   ]
  },
  {
   "cell_type": "code",
   "execution_count": null,
   "metadata": {},
   "outputs": [],
   "source": [
    "metrics = ['Overall Sustainability Score', 'Edible Portion', 'Mercury Content', 'Foodservice menu prominence -2019']\n",
    "output = widgets.Output()\n",
    "\n",
    "sust_slider = widgets.FloatSlider(value = 0.25, min = 0, max = 1, step = 0.01, description = 'Sustainability')\n",
    "welf_slider = widgets.FloatSlider(value = 0.25, min = 0, max = 1, step = 0.01, description = 'Animal Welfare')\n",
    "health_slider = widgets.FloatSlider(value = 0.25, min = 0, max = 1, step = 0.01, description = 'Public Health')\n",
    "market_slider = widgets.FloatSlider(value = 0.25, min = 0, max = 1, step = 0.01, description = 'Market Size')\n",
    "\n",
    "s_widgets = [sust_slider, welf_slider, health_slider, market_slider]\n",
    "\n",
    "def handler(change):\n",
    "    output.clear_output()\n",
    "    raw_weights = [s_widget.value for s_widget in s_widgets]\n",
    "    sum_of_weights = sum(raw_weights)\n",
    "    weights = [raw_weight / sum_of_weights for raw_weight in raw_weights]\n",
    "    \n",
    "    # This is completely the wrong formula - this version is just a proof of concept\n",
    "    df['Score'] = pd.DataFrame([pd.to_numeric(df[metric]) * weight for weight, metric in zip(weights, metrics)]).sum(axis = 0)\n",
    "    df.sort_values('Score', inplace = True, ascending = False)\n",
    "    \n",
    "    with output:\n",
    "        with pd.option_context('display.max_rows', None, 'display.max_columns', None):\n",
    "            display(df[['Archetype', 'Score', 'Overall Sustainability Score', 'Edible Portion', 'Mercury Content', 'Foodservice menu prominence -2019']])\n",
    "    \n",
    "for s_widget in s_widgets:\n",
    "    s_widget.observe(handler, names = 'value')"
   ]
  },
  {
   "cell_type": "code",
   "execution_count": null,
   "metadata": {},
   "outputs": [],
   "source": [
    "for s_widget in s_widgets:\n",
    "    display(s_widget)\n",
    "    \n",
    "display(output)\n"
   ]
  },
  {
   "cell_type": "code",
   "execution_count": null,
   "metadata": {},
   "outputs": [],
   "source": []
  }
 ],
 "metadata": {
  "kernelspec": {
   "display_name": "Python 3",
   "language": "python",
   "name": "python3"
  },
  "language_info": {
   "codemirror_mode": {
    "name": "ipython",
    "version": 3
   },
   "file_extension": ".py",
   "mimetype": "text/x-python",
   "name": "python",
   "nbconvert_exporter": "python",
   "pygments_lexer": "ipython3",
   "version": "3.7.4"
  }
 },
 "nbformat": 4,
 "nbformat_minor": 2
}
